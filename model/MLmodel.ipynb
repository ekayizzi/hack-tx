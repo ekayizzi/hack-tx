{
 "cells": [
  {
   "cell_type": "code",
   "execution_count": 48,
   "metadata": {
    "collapsed": true,
    "ExecuteTime": {
     "end_time": "2023-10-22T01:09:55.611103Z",
     "start_time": "2023-10-22T01:09:55.601550Z"
    }
   },
   "outputs": [],
   "source": [
    "import pandas as pd\n",
    "from sklearn.ensemble import RandomForestClassifier\n",
    "from sklearn.model_selection import train_test_split\n",
    "from sklearn.metrics import accuracy_score"
   ]
  },
  {
   "cell_type": "code",
   "execution_count": 49,
   "outputs": [
    {
     "data": {
      "text/plain": "    SeriousDlqin2yrs  RevolvingUtilizationOfUnsecuredLines  age  DebtRatio  \\\n0                  1                              0.766127   45   0.802982   \n1                  0                              0.957151   40   0.121876   \n2                  0                              0.658180   38   0.085113   \n3                  0                              0.233810   30   0.036050   \n4                  0                              0.907239   49   0.024926   \n5                  0                              0.213179   74   0.375607   \n7                  0                              0.754464   39   0.209940   \n9                  0                              0.189169   57   0.606291   \n10                 0                              0.644226   30   0.309476   \n11                 0                              0.018798   51   0.531529   \n\n    MonthlyIncome  NumberOfOpenCreditLinesAndLoans  NumberOfTimes90DaysLate  \\\n0          9120.0                               13                        0   \n1          2600.0                                4                        0   \n2          3042.0                                2                        1   \n3          3300.0                                5                        0   \n4         63588.0                                7                        0   \n5          3500.0                                3                        0   \n7          3500.0                                8                        0   \n9         23684.0                                9                        0   \n10         2500.0                                5                        0   \n11         6501.0                                7                        0   \n\n    NumberRealEstateLoansOrLines  NumberOfDependents  LoanToIncomeRatio  \n0                              6                 2.0                0.0  \n1                              0                 1.0                0.0  \n2                              0                 0.0                0.0  \n3                              0                 0.0                0.0  \n4                              1                 0.0                0.0  \n5                              1                 1.0                0.0  \n7                              0                 0.0                0.0  \n9                              4                 2.0                0.0  \n10                             0                 0.0                0.0  \n11                             2                 2.0                0.0  ",
      "text/html": "<div>\n<style scoped>\n    .dataframe tbody tr th:only-of-type {\n        vertical-align: middle;\n    }\n\n    .dataframe tbody tr th {\n        vertical-align: top;\n    }\n\n    .dataframe thead th {\n        text-align: right;\n    }\n</style>\n<table border=\"1\" class=\"dataframe\">\n  <thead>\n    <tr style=\"text-align: right;\">\n      <th></th>\n      <th>SeriousDlqin2yrs</th>\n      <th>RevolvingUtilizationOfUnsecuredLines</th>\n      <th>age</th>\n      <th>DebtRatio</th>\n      <th>MonthlyIncome</th>\n      <th>NumberOfOpenCreditLinesAndLoans</th>\n      <th>NumberOfTimes90DaysLate</th>\n      <th>NumberRealEstateLoansOrLines</th>\n      <th>NumberOfDependents</th>\n      <th>LoanToIncomeRatio</th>\n    </tr>\n  </thead>\n  <tbody>\n    <tr>\n      <th>0</th>\n      <td>1</td>\n      <td>0.766127</td>\n      <td>45</td>\n      <td>0.802982</td>\n      <td>9120.0</td>\n      <td>13</td>\n      <td>0</td>\n      <td>6</td>\n      <td>2.0</td>\n      <td>0.0</td>\n    </tr>\n    <tr>\n      <th>1</th>\n      <td>0</td>\n      <td>0.957151</td>\n      <td>40</td>\n      <td>0.121876</td>\n      <td>2600.0</td>\n      <td>4</td>\n      <td>0</td>\n      <td>0</td>\n      <td>1.0</td>\n      <td>0.0</td>\n    </tr>\n    <tr>\n      <th>2</th>\n      <td>0</td>\n      <td>0.658180</td>\n      <td>38</td>\n      <td>0.085113</td>\n      <td>3042.0</td>\n      <td>2</td>\n      <td>1</td>\n      <td>0</td>\n      <td>0.0</td>\n      <td>0.0</td>\n    </tr>\n    <tr>\n      <th>3</th>\n      <td>0</td>\n      <td>0.233810</td>\n      <td>30</td>\n      <td>0.036050</td>\n      <td>3300.0</td>\n      <td>5</td>\n      <td>0</td>\n      <td>0</td>\n      <td>0.0</td>\n      <td>0.0</td>\n    </tr>\n    <tr>\n      <th>4</th>\n      <td>0</td>\n      <td>0.907239</td>\n      <td>49</td>\n      <td>0.024926</td>\n      <td>63588.0</td>\n      <td>7</td>\n      <td>0</td>\n      <td>1</td>\n      <td>0.0</td>\n      <td>0.0</td>\n    </tr>\n    <tr>\n      <th>5</th>\n      <td>0</td>\n      <td>0.213179</td>\n      <td>74</td>\n      <td>0.375607</td>\n      <td>3500.0</td>\n      <td>3</td>\n      <td>0</td>\n      <td>1</td>\n      <td>1.0</td>\n      <td>0.0</td>\n    </tr>\n    <tr>\n      <th>7</th>\n      <td>0</td>\n      <td>0.754464</td>\n      <td>39</td>\n      <td>0.209940</td>\n      <td>3500.0</td>\n      <td>8</td>\n      <td>0</td>\n      <td>0</td>\n      <td>0.0</td>\n      <td>0.0</td>\n    </tr>\n    <tr>\n      <th>9</th>\n      <td>0</td>\n      <td>0.189169</td>\n      <td>57</td>\n      <td>0.606291</td>\n      <td>23684.0</td>\n      <td>9</td>\n      <td>0</td>\n      <td>4</td>\n      <td>2.0</td>\n      <td>0.0</td>\n    </tr>\n    <tr>\n      <th>10</th>\n      <td>0</td>\n      <td>0.644226</td>\n      <td>30</td>\n      <td>0.309476</td>\n      <td>2500.0</td>\n      <td>5</td>\n      <td>0</td>\n      <td>0</td>\n      <td>0.0</td>\n      <td>0.0</td>\n    </tr>\n    <tr>\n      <th>11</th>\n      <td>0</td>\n      <td>0.018798</td>\n      <td>51</td>\n      <td>0.531529</td>\n      <td>6501.0</td>\n      <td>7</td>\n      <td>0</td>\n      <td>2</td>\n      <td>2.0</td>\n      <td>0.0</td>\n    </tr>\n  </tbody>\n</table>\n</div>"
     },
     "execution_count": 49,
     "metadata": {},
     "output_type": "execute_result"
    }
   ],
   "source": [
    "# read in the file\n",
    "trainData = pd.read_csv('/Users/eddiekayizzi/PycharmProjects/CaptialOneProj/GiveMeSomeCredit/cs-training.csv')\n",
    "\n",
    "# Drop unneeded columns, drop NA data\n",
    "trainData = trainData.drop(columns=[\"Unnamed: 0\", 'NumberOfTime30-59DaysPastDueNotWorse', 'NumberOfTime60-89DaysPastDueNotWorse']).dropna()\n",
    "\n",
    "loanAmount = 0\n",
    "\n",
    "trainData['LoanToIncomeRatio'] = loanAmount / (trainData['MonthlyIncome'] + 1e-5)  # added epsilon to avoid division by zero\n",
    "\n",
    "# print top most values in csv file\n",
    "trainData.head(10)"
   ],
   "metadata": {
    "collapsed": false,
    "ExecuteTime": {
     "end_time": "2023-10-22T01:09:56.802836Z",
     "start_time": "2023-10-22T01:09:56.105271Z"
    }
   }
  },
  {
   "cell_type": "code",
   "execution_count": 50,
   "outputs": [],
   "source": [
    "# Target variable 'SeriousDlqin2yrs' (1 indicates experiencing distress, 0 indicates no distress)\n",
    "y = trainData['SeriousDlqin2yrs']\n",
    "\n",
    "# Selecting all other features for prediction\n",
    "X = trainData.drop(columns=['SeriousDlqin2yrs', 'LoanToIncomeRatio'])"
   ],
   "metadata": {
    "collapsed": false,
    "ExecuteTime": {
     "end_time": "2023-10-22T01:09:58.321205Z",
     "start_time": "2023-10-22T01:09:58.305160Z"
    }
   }
  },
  {
   "cell_type": "code",
   "execution_count": 51,
   "outputs": [
    {
     "data": {
      "text/plain": "RandomForestClassifier(random_state=42)",
      "text/html": "<style>#sk-container-id-2 {color: black;}#sk-container-id-2 pre{padding: 0;}#sk-container-id-2 div.sk-toggleable {background-color: white;}#sk-container-id-2 label.sk-toggleable__label {cursor: pointer;display: block;width: 100%;margin-bottom: 0;padding: 0.3em;box-sizing: border-box;text-align: center;}#sk-container-id-2 label.sk-toggleable__label-arrow:before {content: \"▸\";float: left;margin-right: 0.25em;color: #696969;}#sk-container-id-2 label.sk-toggleable__label-arrow:hover:before {color: black;}#sk-container-id-2 div.sk-estimator:hover label.sk-toggleable__label-arrow:before {color: black;}#sk-container-id-2 div.sk-toggleable__content {max-height: 0;max-width: 0;overflow: hidden;text-align: left;background-color: #f0f8ff;}#sk-container-id-2 div.sk-toggleable__content pre {margin: 0.2em;color: black;border-radius: 0.25em;background-color: #f0f8ff;}#sk-container-id-2 input.sk-toggleable__control:checked~div.sk-toggleable__content {max-height: 200px;max-width: 100%;overflow: auto;}#sk-container-id-2 input.sk-toggleable__control:checked~label.sk-toggleable__label-arrow:before {content: \"▾\";}#sk-container-id-2 div.sk-estimator input.sk-toggleable__control:checked~label.sk-toggleable__label {background-color: #d4ebff;}#sk-container-id-2 div.sk-label input.sk-toggleable__control:checked~label.sk-toggleable__label {background-color: #d4ebff;}#sk-container-id-2 input.sk-hidden--visually {border: 0;clip: rect(1px 1px 1px 1px);clip: rect(1px, 1px, 1px, 1px);height: 1px;margin: -1px;overflow: hidden;padding: 0;position: absolute;width: 1px;}#sk-container-id-2 div.sk-estimator {font-family: monospace;background-color: #f0f8ff;border: 1px dotted black;border-radius: 0.25em;box-sizing: border-box;margin-bottom: 0.5em;}#sk-container-id-2 div.sk-estimator:hover {background-color: #d4ebff;}#sk-container-id-2 div.sk-parallel-item::after {content: \"\";width: 100%;border-bottom: 1px solid gray;flex-grow: 1;}#sk-container-id-2 div.sk-label:hover label.sk-toggleable__label {background-color: #d4ebff;}#sk-container-id-2 div.sk-serial::before {content: \"\";position: absolute;border-left: 1px solid gray;box-sizing: border-box;top: 0;bottom: 0;left: 50%;z-index: 0;}#sk-container-id-2 div.sk-serial {display: flex;flex-direction: column;align-items: center;background-color: white;padding-right: 0.2em;padding-left: 0.2em;position: relative;}#sk-container-id-2 div.sk-item {position: relative;z-index: 1;}#sk-container-id-2 div.sk-parallel {display: flex;align-items: stretch;justify-content: center;background-color: white;position: relative;}#sk-container-id-2 div.sk-item::before, #sk-container-id-2 div.sk-parallel-item::before {content: \"\";position: absolute;border-left: 1px solid gray;box-sizing: border-box;top: 0;bottom: 0;left: 50%;z-index: -1;}#sk-container-id-2 div.sk-parallel-item {display: flex;flex-direction: column;z-index: 1;position: relative;background-color: white;}#sk-container-id-2 div.sk-parallel-item:first-child::after {align-self: flex-end;width: 50%;}#sk-container-id-2 div.sk-parallel-item:last-child::after {align-self: flex-start;width: 50%;}#sk-container-id-2 div.sk-parallel-item:only-child::after {width: 0;}#sk-container-id-2 div.sk-dashed-wrapped {border: 1px dashed gray;margin: 0 0.4em 0.5em 0.4em;box-sizing: border-box;padding-bottom: 0.4em;background-color: white;}#sk-container-id-2 div.sk-label label {font-family: monospace;font-weight: bold;display: inline-block;line-height: 1.2em;}#sk-container-id-2 div.sk-label-container {text-align: center;}#sk-container-id-2 div.sk-container {/* jupyter's `normalize.less` sets `[hidden] { display: none; }` but bootstrap.min.css set `[hidden] { display: none !important; }` so we also need the `!important` here to be able to override the default hidden behavior on the sphinx rendered scikit-learn.org. See: https://github.com/scikit-learn/scikit-learn/issues/21755 */display: inline-block !important;position: relative;}#sk-container-id-2 div.sk-text-repr-fallback {display: none;}</style><div id=\"sk-container-id-2\" class=\"sk-top-container\"><div class=\"sk-text-repr-fallback\"><pre>RandomForestClassifier(random_state=42)</pre><b>In a Jupyter environment, please rerun this cell to show the HTML representation or trust the notebook. <br />On GitHub, the HTML representation is unable to render, please try loading this page with nbviewer.org.</b></div><div class=\"sk-container\" hidden><div class=\"sk-item\"><div class=\"sk-estimator sk-toggleable\"><input class=\"sk-toggleable__control sk-hidden--visually\" id=\"sk-estimator-id-2\" type=\"checkbox\" checked><label for=\"sk-estimator-id-2\" class=\"sk-toggleable__label sk-toggleable__label-arrow\">RandomForestClassifier</label><div class=\"sk-toggleable__content\"><pre>RandomForestClassifier(random_state=42)</pre></div></div></div></div></div>"
     },
     "execution_count": 51,
     "metadata": {},
     "output_type": "execute_result"
    }
   ],
   "source": [
    "# Split the data into training and testing sets\n",
    "X_train, X_test, y_train, y_test = train_test_split(X, y, test_size=0.2, random_state=42)\n",
    "\n",
    "# Initialize the RandomForestClassifier\n",
    "clf = RandomForestClassifier(n_estimators=100, random_state=42)\n",
    "\n",
    "# Train the model\n",
    "clf.fit(X_train, y_train)"
   ],
   "metadata": {
    "collapsed": false,
    "ExecuteTime": {
     "end_time": "2023-10-22T01:10:25.130423Z",
     "start_time": "2023-10-22T01:10:01.939644Z"
    }
   }
  },
  {
   "cell_type": "code",
   "execution_count": 96,
   "outputs": [],
   "source": [
    "def predict_loan_qualification(age, MonthlyIncome, monthly_debt, lines_of_credit, num_open_loans, NumberOfTimes90DaysLate, NumberRealEstateLoansOrLines, total_credit_balance, credit_sum_limits, NumberOfDependents, loanAmount, model=clf):\n",
    "\n",
    "    if loanAmount > 50000:\n",
    "        LongTermLoan = True\n",
    "    else:\n",
    "        LongTermLoan = False\n",
    "\n",
    "\n",
    "    DebtRatio = monthly_debt/MonthlyIncome\n",
    "    RevolvingUtilizationOfUnsecuredLines = total_credit_balance/credit_sum_limits\n",
    "    NumberOfOpenCreditLinesAndLoans = num_open_loans + lines_of_credit\n",
    "    LoanToIncome = (loanAmount / MonthlyIncome)\n",
    "\n",
    "    # Create a dataframe from the input parameters\n",
    "    input_data = pd.DataFrame({\n",
    "        'RevolvingUtilizationOfUnsecuredLines': [RevolvingUtilizationOfUnsecuredLines],\n",
    "        'age': [age],\n",
    "        'DebtRatio': [DebtRatio],\n",
    "        'MonthlyIncome': [MonthlyIncome],\n",
    "        'NumberOfOpenCreditLinesAndLoans': [NumberOfOpenCreditLinesAndLoans],\n",
    "        'NumberOfTimes90DaysLate': [NumberOfTimes90DaysLate], 'NumberRealEstateLoansOrLines' : [NumberRealEstateLoansOrLines], 'NumberOfDependents' : [NumberOfDependents]\n",
    "    })\n",
    "\n",
    "    # Use the trained model to predict the probability of distress\n",
    "    prediction_proba = model.predict_proba(input_data)[:, 1]\n",
    "\n",
    "    # Convert probability to loan qualification score\n",
    "    score = (1 - prediction_proba) * 10\n",
    "\n",
    "\n",
    "\n",
    "    # if NumberRealEstateLoansOrLines > 3:\n",
    "    #     score = score - 1.5\n",
    "    #\n",
    "    # if age < 25 & LoanToIncome > 6:\n",
    "    #     score = score - 2\n",
    "    #\n",
    "    # if RevolvingUtilizationOfUnsecuredLines > 0.8:  # Above 80% utilization\n",
    "    #     score = score - 2.5\n",
    "    #\n",
    "    # if NumberOfTimes90DaysLate > 2:\n",
    "    #     score = score - 2\n",
    "    #\n",
    "    # if NumberOfDependents > 3 & LoanToIncome > 7:\n",
    "    #     score = score - 1.5\n",
    "\n",
    "\n",
    "\n",
    "\n",
    "\n",
    "    return round(score[0], 1)  # Return the rounded score\n",
    "\n",
    "\n",
    "\n"
   ],
   "metadata": {
    "collapsed": false,
    "ExecuteTime": {
     "end_time": "2023-10-22T03:17:38.704121Z",
     "start_time": "2023-10-22T03:17:38.660954Z"
    }
   }
  },
  {
   "cell_type": "code",
   "execution_count": 97,
   "outputs": [
    {
     "name": "stdout",
     "output_type": "stream",
     "text": [
      "4.8\n"
     ]
    }
   ],
   "source": [
    "print(predict_loan_qualification(24, 600, 500, 4, 4, 1, 6, 9000, 10000, 6, 60000))"
   ],
   "metadata": {
    "collapsed": false,
    "ExecuteTime": {
     "end_time": "2023-10-22T03:17:39.305563Z",
     "start_time": "2023-10-22T03:17:39.284277Z"
    }
   }
  },
  {
   "cell_type": "code",
   "execution_count": 38,
   "outputs": [],
   "source": [
    "# Make predictions\n",
    "predictions = clf.predict_proba(X_test)[:, 1]  # We want the probability of the '1' class\n",
    "\n",
    "# Convert predicted probabilities to a score between 0 and 10\n",
    "# (assuming higher probability of distress means less chance of loan approval)\n",
    "loan_qualification_score = (1 - predictions) * 10"
   ],
   "metadata": {
    "collapsed": false,
    "ExecuteTime": {
     "end_time": "2023-10-22T00:05:00.044975Z",
     "start_time": "2023-10-22T00:04:58.970874Z"
    }
   }
  },
  {
   "cell_type": "code",
   "execution_count": 47,
   "outputs": [
    {
     "name": "stdout",
     "output_type": "stream",
     "text": [
      "[6.7, 9.2, 9.0, 9.7, 8.8, 5.9, 9.7, 10.0, 9.6, 10.0]\n",
      "Model Accuracy: 0.9309\n"
     ]
    }
   ],
   "source": [
    "# Convert to 0-10 score for each prediction\n",
    "loan_qualification_score = [round(score, 1) for score in loan_qualification_score]\n",
    "\n",
    "print(loan_qualification_score[:10])  # Print first 10 scores\n",
    "\n",
    "# Optional: Calculate accuracy (only if you want to see how well the classifier performs)\n",
    "accuracy = accuracy_score(y_test, [1 if pred >= 0.5 else 0 for pred in predictions])\n",
    "print(f\"Model Accuracy: {accuracy:.4f}\")\n",
    "\n"
   ],
   "metadata": {
    "collapsed": false,
    "ExecuteTime": {
     "end_time": "2023-10-22T00:09:04.395291Z",
     "start_time": "2023-10-22T00:09:04.175511Z"
    }
   }
  },
  {
   "cell_type": "code",
   "execution_count": null,
   "outputs": [],
   "source": [
    "\n"
   ],
   "metadata": {
    "collapsed": false,
    "ExecuteTime": {
     "start_time": "2023-10-22T00:07:30.959016Z"
    }
   }
  }
 ],
 "metadata": {
  "kernelspec": {
   "display_name": "Python 3",
   "language": "python",
   "name": "python3"
  },
  "language_info": {
   "codemirror_mode": {
    "name": "ipython",
    "version": 2
   },
   "file_extension": ".py",
   "mimetype": "text/x-python",
   "name": "python",
   "nbconvert_exporter": "python",
   "pygments_lexer": "ipython2",
   "version": "2.7.6"
  }
 },
 "nbformat": 4,
 "nbformat_minor": 0
}
